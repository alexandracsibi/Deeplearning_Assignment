{
 "cells": [
  {
   "cell_type": "markdown",
   "metadata": {
    "id": "9Lj2PprLpbkD"
   },
   "source": [
    "# Prequisite\n"
   ]
  },
  {
   "cell_type": "code",
   "execution_count": null,
   "metadata": {
    "id": "Ju03HrhIpV62"
   },
   "outputs": [],
   "source": [
    "import pandas as pd\n",
    "import torch\n",
    "import torch_geometric as pyg"
   ]
  },
  {
   "cell_type": "markdown",
   "metadata": {},
   "source": [
    "# Download and preprocess the data (optional: you can skip this step and directly load the GDA_df.csv file)."
   ]
  },
  {
   "cell_type": "code",
   "execution_count": null,
   "metadata": {},
   "outputs": [],
   "source": [
    "# Download and preprocess\n",
    "from data_acquisition_processing import get_data\n",
    "\n",
    "api_key =\"Disgenet-api_key\"\n",
    "df = get_data(api_key=api_key, disease_type=\"cancer\")"
   ]
  },
  {
   "cell_type": "code",
   "execution_count": null,
   "metadata": {},
   "outputs": [],
   "source": [
    "# Load the data\n",
    "df = pd.read_csv('GDA_df.csv')"
   ]
  },
  {
   "cell_type": "markdown",
   "metadata": {
    "id": "oilIwLUDmYQC"
   },
   "source": [
    "# Initialization and Data Splitting"
   ]
  },
  {
   "cell_type": "code",
   "execution_count": null,
   "metadata": {
    "colab": {
     "base_uri": "https://localhost:8080/"
    },
    "id": "YIx6beMaF_1P",
    "outputId": "89585675-a6bc-4d25-b16e-44230e1b0816"
   },
   "outputs": [
    {
     "name": "stdout",
     "output_type": "stream",
     "text": [
      "Train data: Data(x=[11277, 48], edge_index=[2, 53006], pos_edge_label=[26503], pos_edge_label_index=[2, 26503], neg_edge_label=[26503], neg_edge_label_index=[2, 26503])\n",
      "Val data: Data(x=[11277, 48], edge_index=[2, 53006], pos_edge_label=[3312], pos_edge_label_index=[2, 3312], neg_edge_label=[3312], neg_edge_label_index=[2, 3312])\n",
      "Test data: Data(x=[11277, 48], edge_index=[2, 59630], pos_edge_label=[3312], pos_edge_label_index=[2, 3312], neg_edge_label=[3312], neg_edge_label_index=[2, 3312])\n"
     ]
    }
   ],
   "source": [
    "from graph_preparation import prepare_homogeneous_graph\n",
    "\n",
    "graph = prepare_homogeneous_graph(df)\n",
    "\n",
    "split = pyg.transforms.RandomLinkSplit(\n",
    "    num_val=0.1,\n",
    "    num_test=0.1,\n",
    "    is_undirected=True,\n",
    "    add_negative_train_samples=True,\n",
    "    neg_sampling_ratio=1.0,\n",
    "    split_labels=True)\n",
    "train_data, val_data, test_data = split(graph)\n",
    "\n",
    "print(f'Train data: {train_data}')\n",
    "print(f'Val data: {val_data}')\n",
    "print(f'Test data: {test_data}')"
   ]
  },
  {
   "cell_type": "code",
   "execution_count": null,
   "metadata": {
    "id": "c8C13ckUFnBN"
   },
   "outputs": [],
   "source": [
    "input_dim = graph.num_node_features\n",
    "hidden_dim = 128\n",
    "output_dim = 64\n",
    "dropout = 0.2\n",
    "wd = 1e-4\n",
    "lr = 1e-3\n",
    "num_epochs = 50"
   ]
  },
  {
   "cell_type": "code",
   "execution_count": null,
   "metadata": {
    "id": "XTR5INmmzBj5"
   },
   "outputs": [],
   "source": [
    "from models import GCN_DP, GCN_MLP, GraphSAGE_MLP, GIN_MLP\n",
    "from trainer import Trainer\n",
    "\n",
    "model = GCN_DP(graph.num_node_features, hidden_dim, output_dim, dropout)\n",
    "optimizer = torch.optim.AdamW(params=model.parameters(), lr=lr, weight_decay=wd)\n",
    "\n",
    "trainer = Trainer(\n",
    "    model=model,\n",
    "    optimizer=optimizer,\n",
    "    save_path='test.pth'\n",
    ")"
   ]
  },
  {
   "cell_type": "markdown",
   "metadata": {
    "id": "ix9YS5FDs9q7"
   },
   "source": [
    "# Train and Evaluate"
   ]
  },
  {
   "cell_type": "code",
   "execution_count": 17,
   "metadata": {
    "colab": {
     "base_uri": "https://localhost:8080/"
    },
    "id": "KfRAlrnfFyL3",
    "outputId": "2a860be5-f64e-4e22-b695-a2be8b61e50b"
   },
   "outputs": [
    {
     "name": "stdout",
     "output_type": "stream",
     "text": [
      "Epoch  Train Loss   Pos Loss   Neg Loss   Val F1   Val AUC   Threshold \n",
      "  5      1.2038       0.3052     0.8987     0.8067   0.8832    0.61      \n",
      "======================================================================\n",
      "Confusion Matrix:\n",
      "[[2689  623]\n",
      " [ 652 2660]]\n",
      "======================================================================\n",
      "Epoch  Train Loss   Pos Loss   Neg Loss   Val F1   Val AUC   Threshold \n",
      "  10     1.1812       0.3113     0.8699     0.8206   0.8992    0.61      \n",
      "======================================================================\n",
      "Confusion Matrix:\n",
      "[[2772  540]\n",
      " [ 632 2680]]\n",
      "======================================================================\n",
      "Epoch  Train Loss   Pos Loss   Neg Loss   Val F1   Val AUC   Threshold \n",
      "  15     1.1776       0.3026     0.8750     0.8293   0.9084    0.61      \n",
      "======================================================================\n",
      "Confusion Matrix:\n",
      "[[2736  576]\n",
      " [ 558 2754]]\n",
      "======================================================================\n",
      "Epoch  Train Loss   Pos Loss   Neg Loss   Val F1   Val AUC   Threshold \n",
      "  20     1.1476       0.2365     0.9111     0.8602   0.9343    0.63      \n",
      "======================================================================\n",
      "Confusion Matrix:\n",
      "[[2748  564]\n",
      " [ 387 2925]]\n",
      "======================================================================\n",
      "Epoch  Train Loss   Pos Loss   Neg Loss   Val F1   Val AUC   Threshold \n",
      "  25     1.1185       0.2249     0.8935     0.8691   0.9405    0.63      \n",
      "======================================================================\n",
      "Confusion Matrix:\n",
      "[[2895  417]\n",
      " [ 446 2866]]\n",
      "======================================================================\n",
      "Epoch  Train Loss   Pos Loss   Neg Loss   Val F1   Val AUC   Threshold \n",
      "  30     1.1067       0.2343     0.8724     0.8694   0.9404    0.62      \n",
      "======================================================================\n",
      "Confusion Matrix:\n",
      "[[2892  420]\n",
      " [ 442 2870]]\n",
      "======================================================================\n",
      "Epoch  Train Loss   Pos Loss   Neg Loss   Val F1   Val AUC   Threshold \n",
      "  35     1.1050       0.2402     0.8648     0.8702   0.9401    0.62      \n",
      "======================================================================\n",
      "Confusion Matrix:\n",
      "[[2930  382]\n",
      " [ 467 2845]]\n",
      "======================================================================\n",
      "Epoch  Train Loss   Pos Loss   Neg Loss   Val F1   Val AUC   Threshold \n",
      "  40     1.0917       0.2574     0.8342     0.8711   0.9350    0.60      \n",
      "======================================================================\n",
      "Confusion Matrix:\n",
      "[[2876  436]\n",
      " [ 420 2892]]\n",
      "======================================================================\n",
      "Epoch  Train Loss   Pos Loss   Neg Loss   Val F1   Val AUC   Threshold \n",
      "  45     1.0708       0.2213     0.8495     0.8688   0.9290    0.62      \n",
      "======================================================================\n",
      "Confusion Matrix:\n",
      "[[2937  375]\n",
      " [ 480 2832]]\n",
      "======================================================================\n",
      "Early stopping triggered.\n"
     ]
    }
   ],
   "source": [
    "trainer.fit(train_data, val_data, num_epochs=num_epochs, early_stopping_patience=10)"
   ]
  },
  {
   "cell_type": "code",
   "execution_count": 18,
   "metadata": {
    "colab": {
     "base_uri": "https://localhost:8080/"
    },
    "id": "9f15qqgEFzgZ",
    "outputId": "33a07bd4-fb70-45e6-8e89-12ba9975ad3a"
   },
   "outputs": [
    {
     "name": "stderr",
     "output_type": "stream",
     "text": [
      "/tmp/ipykernel_18/2282156664.py:94: FutureWarning: You are using `torch.load` with `weights_only=False` (the current default value), which uses the default pickle module implicitly. It is possible to construct malicious pickle data which will execute arbitrary code during unpickling (See https://github.com/pytorch/pytorch/blob/main/SECURITY.md#untrusted-models for more details). In a future release, the default value for `weights_only` will be flipped to `True`. This limits the functions that could be executed during unpickling. Arbitrary objects will no longer be allowed to be loaded via this mode unless they are explicitly allowlisted by the user via `torch.serialization.add_safe_globals`. We recommend you start setting `weights_only=True` for any use case where you don't have full control of the loaded file. Please open an issue on GitHub for any issues related to this experimental feature.\n",
      "  checkpoint = torch.load(self.save_path)\n"
     ]
    },
    {
     "name": "stdout",
     "output_type": "stream",
     "text": [
      "Test F1: 0.8777\n",
      "Test AUC: 0.9368\n",
      "Best Threshold: 0.60\n",
      "Confusion Matrix:\n",
      "[[2911  401]\n",
      " [ 408 2904]]\n"
     ]
    }
   ],
   "source": [
    "trainer.test(test_data)"
   ]
  }
 ],
 "metadata": {
  "colab": {
   "collapsed_sections": [
    "PjZZXCumpfqN",
    "t-Upkxc97_2C",
    "MqurBCGm8FrK",
    "8NMnw9HW6FJ7"
   ],
   "provenance": []
  },
  "kernelspec": {
   "display_name": "Python 3 (ipykernel)",
   "language": "python",
   "name": "python3"
  },
  "language_info": {
   "codemirror_mode": {
    "name": "ipython",
    "version": 3
   },
   "file_extension": ".py",
   "mimetype": "text/x-python",
   "name": "python",
   "nbconvert_exporter": "python",
   "pygments_lexer": "ipython3",
   "version": "3.12.7"
  }
 },
 "nbformat": 4,
 "nbformat_minor": 4
}
